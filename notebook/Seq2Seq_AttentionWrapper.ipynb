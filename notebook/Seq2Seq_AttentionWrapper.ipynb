{
 "cells": [
  {
   "cell_type": "code",
   "execution_count": 6,
   "metadata": {},
   "outputs": [],
   "source": [
    "%matplotlib inline\n",
    "import matplotlib.pyplot as plt\n",
    "\n",
    "from pprint import pprint\n",
    "\n",
    "import re\n",
    "\n",
    "from collections import Counter\n",
    "\n",
    "import os\n",
    "\n",
    "from tqdm import tqdm\n",
    "\n",
    "import tensorflow as tf\n",
    "\n",
    "# for output_projection\n",
    "from tensorflow.python.layers.core import Dense\n",
    "import numpy as np"
   ]
  },
  {
   "cell_type": "code",
   "execution_count": 7,
   "metadata": {},
   "outputs": [],
   "source": [
    "# maximum length of input and target sentences including paddings\n",
    "enc_sentence_length = 10\n",
    "dec_sentence_length = 10"
   ]
  },
  {
   "cell_type": "code",
   "execution_count": 9,
   "metadata": {},
   "outputs": [],
   "source": [
    "# Batch_size: 2\n",
    "input_batches = [\n",
    "    ['Hi What is your name?', 'Nice to meet you!'],\n",
    "    ['Which programming language do you use?', 'See you later.'],\n",
    "    ['Where do you live?', 'What is your major?'],\n",
    "    ['What do you want to drink?', 'What is your favorite beer?']]\n",
    "\n",
    "target_batches = [\n",
    "    ['Hi this is Jaemin.', 'Nice to meet you too!'],\n",
    "    ['I like Python.', 'Bye Bye.'],\n",
    "    ['I live in Seoul, South Korea.', 'I study industrial engineering.'],\n",
    "    ['Beer please!', 'Leffe brown!']]"
   ]
  },
  {
   "cell_type": "code",
   "execution_count": 10,
   "metadata": {},
   "outputs": [
    {
     "data": {
      "text/plain": [
       "['Hi What is your name?',\n",
       " 'Nice to meet you!',\n",
       " 'Which programming language do you use?',\n",
       " 'See you later.',\n",
       " 'Where do you live?',\n",
       " 'What is your major?',\n",
       " 'What do you want to drink?',\n",
       " 'What is your favorite beer?']"
      ]
     },
     "execution_count": 10,
     "metadata": {},
     "output_type": "execute_result"
    }
   ],
   "source": [
    "all_input_sentences = []\n",
    "for input_batch in input_batches:\n",
    "    all_input_sentences.extend(input_batch)\n",
    "    \n",
    "all_target_sentences = []\n",
    "for target_batch in target_batches:\n",
    "    all_target_sentences.extend(target_batch)\n",
    "\n",
    "# Example\n",
    "all_input_sentences"
   ]
  },
  {
   "cell_type": "code",
   "execution_count": 11,
   "metadata": {},
   "outputs": [
    {
     "data": {
      "text/plain": [
       "['Hello', 'world', '?', '?', '\"', 'sdfs', '%', '@', '#', '%']"
      ]
     },
     "execution_count": 11,
     "metadata": {},
     "output_type": "execute_result"
    }
   ],
   "source": [
    "def tokenizer(sentence):\n",
    "    tokens = re.findall(r\"[\\w]+|[^\\s\\w]\", sentence)\n",
    "    return tokens\n",
    "\n",
    "# Example\n",
    "tokenizer('Hello world?? \"sdfs%@#%')"
   ]
  },
  {
   "cell_type": "code",
   "execution_count": 12,
   "metadata": {},
   "outputs": [],
   "source": [
    "def build_vocab(sentences, is_target = False, max_vocab_size = None):\n",
    "    word_counter = Counter()\n",
    "    vocab = dict()\n",
    "    reverse_vocab = dict()\n",
    "    \n",
    "    for sentence in sentences:\n",
    "        tokens = tokenizer(sentence)\n",
    "        word_counter.update(tokens)\n",
    "    \n",
    "    if max_vocab_size is None:\n",
    "        max_vocab_size = len(word_counter)\n",
    "    \n",
    "    if is_target:\n",
    "        vocab['GO'] = 0\n",
    "        vocab[' PAD'] = 1\n",
    "        vocab_idx = 2\n",
    "        for key, value in word_counter.most_common(max_vocab_size):\n",
    "            vocab[key] = vocab_idx\n",
    "            vocab_idx += 1\n",
    "    else:\n",
    "        vocab[' PAD'] = 0\n",
    "        vocab_idx = 1\n",
    "        for key, value in word_counter.most_common(max_vocab_size):\n",
    "            vocab[key] = vocab_idx\n",
    "            vocab_idx += 1\n",
    "    for key, value in vocab.items():\n",
    "        reverse_vocab[value] = key\n",
    "    return vocab, reverse_vocab, max_vocab_size\n",
    "            "
   ]
  },
  {
   "cell_type": "code",
   "execution_count": 13,
   "metadata": {},
   "outputs": [
    {
     "name": "stdout",
     "output_type": "stream",
     "text": [
      "input vocabulary size: 26\n",
      "target vocabulary size: 28\n"
     ]
    }
   ],
   "source": [
    "enc_vocab, enc_reverse_vocab, enc_vocab_size = build_vocab(all_input_sentences)\n",
    "dec_vocab, dec_reverse_vocab, dec_vocab_size = build_vocab(all_target_sentences, is_target=True)\n",
    "\n",
    "print('input vocabulary size:', enc_vocab_size)\n",
    "print('target vocabulary size:', dec_vocab_size)"
   ]
  },
  {
   "cell_type": "code",
   "execution_count": 14,
   "metadata": {},
   "outputs": [],
   "source": [
    "def token2idx(word, vocab):\n",
    "    return vocab[word]"
   ]
  },
  {
   "cell_type": "code",
   "execution_count": 15,
   "metadata": {},
   "outputs": [
    {
     "name": "stdout",
     "output_type": "stream",
     "text": [
      "Hi What is your name?\n",
      "([9, 3, 6, 4, 21, 1, 0, 0, 0, 0], 6)\n",
      "Hi this is Jaemin.\n",
      "([0, 10, 21, 23, 18, 2, 1, 1, 1, 1, 1], 5)\n"
     ]
    }
   ],
   "source": [
    "def sent2idx(sent, vocab = enc_vocab, max_sentence_length = enc_sentence_length, is_target = False ):\n",
    "    tokens = tokenizer(sent)\n",
    "    current_length = len(tokens)\n",
    "    pad_length = max_sentence_length - current_length\n",
    "    if is_target:\n",
    "        return [0] + [token2idx(token, vocab) for token in tokens]+ [1]*pad_length, current_length\n",
    "    else:\n",
    "        return [token2idx(token, vocab) for token in tokens]+ [0]*pad_length, current_length\n",
    "\n",
    "# Enc Example\n",
    "print('Hi What is your name?')\n",
    "print(sent2idx('Hi What is your name?'))\n",
    "\n",
    "# Dec Example\n",
    "print('Hi this is Jaemin.')\n",
    "print(sent2idx('Hi this is Jaemin.', vocab=dec_vocab, max_sentence_length=dec_sentence_length, is_target=True))"
   ]
  },
  {
   "cell_type": "code",
   "execution_count": 16,
   "metadata": {},
   "outputs": [],
   "source": [
    "def idx2token(idx, reverse_vocab):\n",
    "    return reverse_vocab[idx]\n",
    "\n",
    "def idx2sent(indices, reverse_vocab=dec_reverse_vocab):\n",
    "    return \" \".join([idx2token(idx, reverse_vocab) for idx in indices])\n"
   ]
  },
  {
   "cell_type": "markdown",
   "metadata": {},
   "source": [
    "Hyperparameters / Path"
   ]
  },
  {
   "cell_type": "code",
   "execution_count": 18,
   "metadata": {},
   "outputs": [],
   "source": [
    "class DemoConfig:\n",
    "    \n",
    "    #Model\n",
    "    hidden_size = 30\n",
    "    enc_emb_size = 30\n",
    "    dec_emb_size = 30\n",
    "    attn_size = 30\n",
    "    cell = tf.contrib.rnn.BasicLSTMCell\n",
    "    \n",
    "    #Training\n",
    "    optimizer = tf.train.RMSPropOptimizer\n",
    "    n_epoch = 801\n",
    "    learning_rate = 0.001\n",
    "    \n",
    "    #Tokens\n",
    "    start_token = 0 # GO\n",
    "    end_token = 1 # PAD\n",
    "    \n",
    "    #checkpoint Path\n",
    "    ckpt_dir = './ckpt_dir_seq'"
   ]
  },
  {
   "cell_type": "markdown",
   "metadata": {},
   "source": [
    "Build Graph"
   ]
  },
  {
   "cell_type": "code",
   "execution_count": 28,
   "metadata": {},
   "outputs": [],
   "source": [
    "class seq2seqModel(object):\n",
    "    def __init__(self, config, mode='training'):\n",
    "        assert mode in ['training', 'evaluation', 'inference']\n",
    "        self.mode = mode\n",
    "        \n",
    "        #Model\n",
    "        self.hidden_size = config.hidden_size\n",
    "        self.enc_emb_size = config.enc_emb_size\n",
    "        self.dec_emb_size = config.dec_emb_size\n",
    "        self.cell = config.cell\n",
    "        self.attn_size = config.attn_size\n",
    "        \n",
    "        #Training\n",
    "        self.optimizer = config.optimizer\n",
    "        self.n_epoch = config.n_epoch\n",
    "        self.learning_rate = config.learning_rate\n",
    "        \n",
    "        # Token\n",
    "        self.start_token = config.start_token\n",
    "        self.end_token = config.end_token\n",
    "        \n",
    "        #checkpoint path\n",
    "        self.ckpt_path = config.ckpt_dir\n",
    "        \n",
    "    def add_placeholder(self):\n",
    "        self.enc_inputs = tf.placeholder(\n",
    "            tf.int32,\n",
    "            shape = [None, enc_sentence_length],\n",
    "            name = 'input_sentences'\n",
    "        )\n",
    "        self.enc_seq_length = tf.placeholder(\n",
    "            tf.int32,\n",
    "            shape = [None,],\n",
    "            name = 'input_seq_length'\n",
    "        )\n",
    "        if self.mode == 'training':\n",
    "            self.dec_inputs = tf.placeholder(tf.int32,\n",
    "                                            shape=[None, dec_sentence_length+1],\n",
    "                                            name = 'target_sentence')\n",
    "            self.dec_sequence_length = tf.placeholder(tf.int32,\n",
    "                                                     shape=[None,],\n",
    "                                                     name = 'target_seq_length')\n",
    "            \n",
    "    def add_encoder(self):\n",
    "        with tf.variable_scope('Encoder') as scope:\n",
    "            with tf.device('/cpu:0'):\n",
    "                self.enc_Wemb = tf.get_variable(\n",
    "                    'embedding',\n",
    "                    initializer = tf.random_uniform([enc_vocab_size+1, self.enc_emb_size]),\n",
    "                    dtype = tf.float32\n",
    "                )\n",
    "        #[Batch_size, enc_seq_length, embedding_size]\n",
    "        enc_emb_inputs = tf.nn.embedding_lookup(self.enc_Wemb,self.enc_inputs,\n",
    "                                                name = 'emb_inputs'\n",
    "                                               )\n",
    "        enc_cell = self.cell(self.hidden_size)\n",
    "        # enc_outputs: [batch_size x enc_sent_len x embedding_size]\n",
    "        # enc_last_state: [batch_size x embedding_size]\n",
    "        self.enc_outputs, self.enc_last_state = tf.nn.dynamic_rnn(\n",
    "            cell = enc_cell,\n",
    "            inputs = enc_emb_inputs,\n",
    "            sequence_length = self.enc_seq_length,\n",
    "            time_major = False,\n",
    "            dtype = tf.float32\n",
    "        )\n",
    "\n",
    "    def add_decoder(self):\n",
    "        with tf.variable_scope('Decoder') as scope:\n",
    "            with tf.device('/cpu:0'):\n",
    "                self.dec_Wdec = tf.get_variable(\n",
    "                    'embedding',\n",
    "                    initializer = tf.random_uniform([dec_vocab_size+2, self.dec_emb_size]),\n",
    "                    dtype = tf.float32\n",
    "                )\n",
    "        dec_cell = self.cell(self.hidden_size)\n",
    "        # get dynamic batch_size\n",
    "        batch_size = tf.shape(self.enc_inputs)[0]\n",
    "        \n",
    "        attn_mech = tf.contrib.seq2seq.LuongAttention(\n",
    "            num_units = self.attn_size,\n",
    "            memory = self.enc_outputs,\n",
    "            memory_sequence_length=self.enc_seq_length,\n",
    "            name='LuongAttention'\n",
    "        )\n",
    "        \n",
    "        dec_cell = tf.contrib.seq2seq.AttentionWrapper(\n",
    "            cell = dec_cell,\n",
    "            attention_mechanism = attn_mech,\n",
    "            attention_layer_size = self.attn_size,\n",
    "            name='Attention_Wrapper'\n",
    "        )\n",
    "        \n",
    "        #initial state\n",
    "        initial_state = dec_cell.zero_state(dtype=tf.float32, batch_size = batch_size)\n",
    "        \n",
    "#             initial_state = tf.contrib.seq2seq.AttentionWrapperState(\n",
    "#                 cell_state=self.enc_last_state,\n",
    "#                 attention=_zero_state_tensors(self.attn_size, batch_size, tf.float32),\n",
    "#                  time=0, alignments=(), \n",
    "#                 alignment_history=()\n",
    "#             )\n",
    "\n",
    "        #output project layer\n",
    "        output_layer = Dense(dec_vocab_size+2, name='output_projection')\n",
    "\n",
    "        if self.mode == 'training':\n",
    "\n",
    "            # maxium unrollings in current batch = max(dec_sent_len) + 1(GO symbol)\n",
    "            max_dec_len = tf.reduce_max(self.dec_sequence_length+1, name='max_dec_len')\n",
    "\n",
    "            dec_emb_inputs = tf.nn.embedding_lookup(self.dec_Wdec, self.dec_inputs,\n",
    "                                                   name = 'dec_inputs')\n",
    "            \"\"\"\n",
    "            training_helper = tf.contrib.seq2seq.TrainingHelper(dec_emb_inputs,\n",
    "                                                               sequence_length=self.dec_sequence_length+1,\n",
    "                                                               name = 'training_helper')\n",
    "            \"\"\"\n",
    "            training_helper = tf.contrib.seq2seq.TrainingHelper(\n",
    "                dec_emb_inputs,                                                                   \n",
    "                sequence_length=self.dec_sequence_length+1,\n",
    "                time_major = False,\n",
    "                name='trainghelper'\n",
    "            )\n",
    "\n",
    "            training_decoder = tf.contrib.seq2seq.BasicDecoder(dec_cell,\n",
    "                                                              training_helper,\n",
    "                                                              initial_state = initial_state,\n",
    "                                                              output_layer=output_layer)\n",
    "\n",
    "            train_dec_outputs,train_dec_last_state,_ = tf.contrib.seq2seq.dynamic_decode(training_decoder,\n",
    "                                                                                       output_time_major=False,\n",
    "                                                                                       impute_finished=True,\n",
    "                                                                                       maximum_iterations=max_dec_len)\n",
    "            # dec_outputs: collections.namedtuple(rnn_outputs, sample_id)\n",
    "            # dec_outputs.rnn_output: [batch_size x max(dec_sequence_len) x dec_vocab_size+2], tf.float32\n",
    "            # dec_outputs.sample_id [batch_size], tf.int32\n",
    "            # logits: [batch_size x max_dec_len x dec_vocab_size+2]\n",
    "            logits = tf.identity(train_dec_outputs.rnn_output, name='logits')\n",
    "\n",
    "            # targets: [batch_size x max_dec_len x dec_vocab_size+2]\n",
    "            targets = tf.slice(self.dec_inputs, [0, 0], [-1, max_dec_len], 'targets')\n",
    "            print('max_dec_len',max_dec_len)\n",
    "            # masks: [batch_size x max_dec_len]\n",
    "            # => ignore outputs after `dec_senquence_length+1` when calculating loss\n",
    "            masks = tf.sequence_mask(self.dec_sequence_length+1, max_dec_len, dtype=tf.float32, name='masks')\n",
    "\n",
    "            # Control loss dimensions with `average_across_timesteps` and `average_across_batch`\n",
    "            # internal: `tf.nn.sparse_softmax_cross_entropy_with_logits`\n",
    "            self.batch_loss = tf.contrib.seq2seq.sequence_loss(\n",
    "                logits=logits,\n",
    "                targets=targets,\n",
    "                weights=masks,\n",
    "                name='batch-loss'\n",
    "            )\n",
    "            # prediction sample for validation\n",
    "            self.valid_predictions = tf.identity(train_dec_outputs.sample_id, name='valid_preds')\n",
    "\n",
    "            # List of training variables\n",
    "            # self.training_variables = tf.get_collection(tf.GraphKeys.GLOBAL_VARIABLES)\n",
    "\n",
    "        elif self.mode == 'inference':\n",
    "\n",
    "            # batch_size = tf.shape(self.enc_inputs)[0:1]\n",
    "            start_tokens = tf.tile(tf.constant([self.start_token], dtype=tf.int32),[batch_size], name='start_tokens')\n",
    "\n",
    "            inference_helper = tf.contrib.seq2seq.GreedyEmbeddingHelper(\n",
    "                embedding=self.dec_Wdec,\n",
    "                start_tokens=start_tokens,\n",
    "                end_token=self.end_token\n",
    "            )\n",
    "            inference_decoder = tf.contrib.seq2seq.BasicDecoder(\n",
    "                dec_cell,\n",
    "                helper=inference_helper,\n",
    "                initial_state=initial_state,\n",
    "                output_layer=output_layer\n",
    "            )\n",
    "\n",
    "            infer_dec_outputs, infer_dec_last_state,_ = tf.contrib.seq2seq.dynamic_decode(\n",
    "                inference_decoder,\n",
    "                output_time_major = False,\n",
    "                impute_finished =True,\n",
    "                maximum_iterations = dec_sentence_length\n",
    "            )\n",
    "\n",
    "            # [batch_size x dec_sentence_length], tf.int32\n",
    "            self.predictions = tf.identity(infer_dec_outputs.sample_id, name='predictions')\n",
    "            # equivalent to tf.argmax(infer_dec_outputs.rnn_output, axis=2, name='predictions')\n",
    "\n",
    "            # List of training variables\n",
    "            # self.training_variables = tf.get_collection(tf.GraphKeys.GLOBAL_VARIABLES)\n",
    "\n",
    "    def add_training_op(self):\n",
    "        self.training_op = self.optimizer(self.learning_rate, name='training_op').minimize(self.batch_loss)\n",
    "\n",
    "    def save(self, sess, var_list=None, save_path=None):\n",
    "        print('Saving model at {0}'.format(save_path))\n",
    "        if hasattr(self, 'training_variables'):\n",
    "            var_list = self.training_variables\n",
    "        saver = tf.train.Saver(var_list)\n",
    "        saver.save(sess, save_path, write_meta_graph=False)\n",
    "\n",
    "    def restore(self, sess, var_list=None, ckpt_path=None):\n",
    "        if hasattr(self, 'training_variables'):\n",
    "            var_list = self.training_variables\n",
    "        self.restorer = tf.train.Saver(var_list)\n",
    "        self.restorer.restore(sess, ckpt_path)\n",
    "        print('Restore Finished!')\n",
    "\n",
    "    def summary(self):\n",
    "        summary_writer = tf.summary.FileWriter(\n",
    "            logdir = self.ckpt_path,\n",
    "            graph = tf.get_default_graph()\n",
    "        )\n",
    "\n",
    "    def build(self):\n",
    "        self.add_placeholder()\n",
    "        self.add_encoder()\n",
    "        self.add_decoder()\n",
    "\n",
    "    def train(self, sess, data, from_scratch=False,\n",
    "          load_ckpt=None, save_path=None):\n",
    "\n",
    "        # Restore Checkpoint\n",
    "        if from_scratch is False and os.path.isfile(load_ckpt):\n",
    "            self.restore(sess, load_ckpt)\n",
    "\n",
    "        # Add Optimizer to current graph\n",
    "        self.add_training_op()\n",
    "\n",
    "        sess.run(tf.global_variables_initializer())\n",
    "\n",
    "        input_batches, target_batches = data\n",
    "        loss_history = []\n",
    "\n",
    "        for epoch in tqdm(range(self.n_epoch)):\n",
    "\n",
    "            all_preds = []\n",
    "            epoch_loss = 0\n",
    "            for input_batch, target_batch in zip(input_batches, target_batches):\n",
    "                input_batch_tokens = []\n",
    "                target_batch_tokens = []\n",
    "                enc_sentence_lengths = []\n",
    "                dec_sentence_lengths = []\n",
    "\n",
    "                for input_sent in input_batch:\n",
    "                    tokens, sent_len = sent2idx(input_sent)\n",
    "                    input_batch_tokens.append(tokens)\n",
    "                    enc_sentence_lengths.append(sent_len)\n",
    "\n",
    "                for target_sent in target_batch:\n",
    "                    tokens, sent_len = sent2idx(target_sent,\n",
    "                                 vocab=dec_vocab,\n",
    "                                 max_sentence_length=dec_sentence_length,\n",
    "                                 is_target=True)\n",
    "                    target_batch_tokens.append(tokens)\n",
    "                    dec_sentence_lengths.append(sent_len)\n",
    "\n",
    "                # Evaluate 3 ops in the graph\n",
    "                # => valid_predictions, loss, training_op(optimzier)\n",
    "                batch_preds, batch_loss, _ = sess.run(\n",
    "                    [self.valid_predictions, self.batch_loss, self.training_op],\n",
    "                    feed_dict={\n",
    "                        self.enc_inputs: input_batch_tokens,\n",
    "                        self.enc_seq_length: enc_sentence_lengths,\n",
    "                        self.dec_inputs: target_batch_tokens,\n",
    "                        self.dec_sequence_length: dec_sentence_lengths\n",
    "                    })\n",
    "                # loss_history.append(batch_loss)\n",
    "                epoch_loss += batch_loss\n",
    "                all_preds.append(batch_preds)\n",
    "\n",
    "            loss_history.append(epoch_loss)\n",
    "\n",
    "            # Logging every 400 epochs\n",
    "            if epoch % 400 == 0:\n",
    "                print('Epoch', epoch)\n",
    "                for input_batch, target_batch, batch_preds in zip(input_batches, target_batches, all_preds):\n",
    "                    for input_sent, target_sent, pred in zip(input_batch, target_batch, batch_preds):\n",
    "                        print('\\tInput:', input_sent)\n",
    "                        print('prediction',pred)\n",
    "                        print('\\tPrediction:', idx2sent(pred, reverse_vocab=dec_reverse_vocab))\n",
    "                        print('\\tTarget:', target_sent)\n",
    "                print('\\tepoch loss: {epoch_loss:.2f}\\n')\n",
    "\n",
    "        if save_path:\n",
    "            self.save(sess, save_path=save_path)\n",
    "\n",
    "        return loss_history\n",
    "\n",
    "    def inference(self, sess, data, load_ckpt):\n",
    "\n",
    "        self.restore(sess, ckpt_path=load_ckpt)\n",
    "\n",
    "        input_batch, target_batch = data\n",
    "\n",
    "        batch_preds = []\n",
    "        batch_tokens = []\n",
    "        batch_sent_lens = []\n",
    "\n",
    "        for input_sent in input_batch:\n",
    "            tokens, sent_len = sent2idx(input_sent)\n",
    "            batch_tokens.append(tokens)\n",
    "            batch_sent_lens.append(sent_len)\n",
    "\n",
    "        batch_preds = sess.run(\n",
    "            self.predictions,\n",
    "            feed_dict={\n",
    "                self.enc_inputs: batch_tokens,\n",
    "                self.enc_seq_length: batch_sent_lens,\n",
    "            })\n",
    "\n",
    "        for input_sent, target_sent, pred in zip(input_batch, target_batch, batch_preds):\n",
    "            print('Input:', input_sent)\n",
    "            print('Prediction:', idx2sent(pred, reverse_vocab=dec_reverse_vocab))\n",
    "            print('Target:', target_sent, '\\n')\n"
   ]
  },
  {
   "cell_type": "code",
   "execution_count": 29,
   "metadata": {},
   "outputs": [
    {
     "name": "stdout",
     "output_type": "stream",
     "text": [
      "max_dec_len Tensor(\"max_dec_len:0\", shape=(), dtype=int32)\n",
      "Training model built!\n"
     ]
    }
   ],
   "source": [
    "tf.reset_default_graph()\n",
    "config = DemoConfig()\n",
    "model = seq2seqModel(config, mode='training')\n",
    "model.build()\n",
    "# model.summary()\n",
    "print('Training model built!')\n"
   ]
  },
  {
   "cell_type": "code",
   "execution_count": 30,
   "metadata": {},
   "outputs": [
    {
     "name": "stdout",
     "output_type": "stream",
     "text": [
      "Inference model built!\n"
     ]
    }
   ],
   "source": [
    "tf.reset_default_graph()\n",
    "config = DemoConfig()\n",
    "model = seq2seqModel(config, mode='inference')\n",
    "model.build()\n",
    "# model.summary()\n",
    "print('Inference model built!')"
   ]
  },
  {
   "cell_type": "code",
   "execution_count": 31,
   "metadata": {},
   "outputs": [
    {
     "name": "stdout",
     "output_type": "stream",
     "text": [
      "max_dec_len Tensor(\"max_dec_len:0\", shape=(), dtype=int32)\n"
     ]
    },
    {
     "name": "stderr",
     "output_type": "stream",
     "text": [
      "\r",
      "  0%|                                                                                          | 0/801 [00:00<?, ?it/s]"
     ]
    },
    {
     "name": "stdout",
     "output_type": "stream",
     "text": [
      "Epoch 0\n",
      "\tInput: Hi What is your name?\n",
      "prediction [ 4 21 21 21 21 21  0]\n",
      "\tPrediction: ! this this this this this GO\n",
      "\tTarget: Hi this is Jaemin.\n",
      "\tInput: Nice to meet you!\n",
      "prediction [ 4 21 21 21 17 17 17]\n",
      "\tPrediction: ! this this this study study study\n",
      "\tTarget: Nice to meet you too!\n",
      "\tInput: Which programming language do you use?\n",
      "prediction [ 4 21 17 17 17]\n",
      "\tPrediction: ! this study study study\n",
      "\tTarget: I like Python.\n",
      "\tInput: See you later.\n",
      "prediction [ 4 21 21 21  0]\n",
      "\tPrediction: ! this this this GO\n",
      "\tTarget: Bye Bye.\n",
      "\tInput: Where do you live?\n",
      "prediction [ 4 21 14 17 17 17 17 17 17]\n",
      "\tPrediction: ! this please study study study study study study\n",
      "\tTarget: I live in Seoul, South Korea.\n",
      "\tInput: What is your major?\n",
      "prediction [ 4 17 17 17 17 17  0  0  0]\n",
      "\tPrediction: ! study study study study study GO GO GO\n",
      "\tTarget: I study industrial engineering.\n",
      "\tInput: What do you want to drink?\n",
      "prediction [ 4  4  4 21]\n",
      "\tPrediction: ! ! ! this\n",
      "\tTarget: Beer please!\n",
      "\tInput: What is your favorite beer?\n",
      "prediction [ 4 21 21 21]\n",
      "\tPrediction: ! this this this\n",
      "\tTarget: Leffe brown!\n",
      "\tepoch loss: {epoch_loss:.2f}\n",
      "\n"
     ]
    },
    {
     "name": "stderr",
     "output_type": "stream",
     "text": [
      " 50%|███████████████████████████████████████▉                                        | 400/801 [00:09<00:09, 42.22it/s]"
     ]
    },
    {
     "name": "stdout",
     "output_type": "stream",
     "text": [
      "Epoch 400\n",
      "\tInput: Hi What is your name?\n",
      "prediction [ 0 10 21 23 18  2  0]\n",
      "\tPrediction: GO Hi this is Jaemin . GO\n",
      "\tTarget: Hi this is Jaemin.\n",
      "\tInput: Nice to meet you!\n",
      "prediction [ 0 28 29  9 22 26  4]\n",
      "\tPrediction: GO Nice to meet you too !\n",
      "\tTarget: Nice to meet you too!\n",
      "\tInput: Which programming language do you use?\n",
      "prediction [ 0  3 25 19  2]\n",
      "\tPrediction: GO I like Python .\n",
      "\tTarget: I like Python.\n",
      "\tInput: See you later.\n",
      "prediction [0 5 5 2 0]\n",
      "\tPrediction: GO Bye Bye . GO\n",
      "\tTarget: Bye Bye.\n",
      "\tInput: Where do you live?\n",
      "prediction [ 0  3 20 27  6 15 12 11  2]\n",
      "\tPrediction: GO I live in Seoul , South Korea .\n",
      "\tTarget: I live in Seoul, South Korea.\n",
      "\tInput: What is your major?\n",
      "prediction [ 0  3 17 24 13  2  0  0  0]\n",
      "\tPrediction: GO I study industrial engineering . GO GO GO\n",
      "\tTarget: I study industrial engineering.\n",
      "\tInput: What do you want to drink?\n",
      "prediction [ 0  7 14  4]\n",
      "\tPrediction: GO Beer please !\n",
      "\tTarget: Beer please!\n",
      "\tInput: What is your favorite beer?\n",
      "prediction [ 0 16  8  4]\n",
      "\tPrediction: GO Leffe brown !\n",
      "\tTarget: Leffe brown!\n",
      "\tepoch loss: {epoch_loss:.2f}\n",
      "\n"
     ]
    },
    {
     "name": "stderr",
     "output_type": "stream",
     "text": [
      "100%|███████████████████████████████████████████████████████████████████████████████▋| 798/801 [00:18<00:00, 42.52it/s]"
     ]
    },
    {
     "name": "stdout",
     "output_type": "stream",
     "text": [
      "Epoch 800\n",
      "\tInput: Hi What is your name?\n",
      "prediction [ 0 10 21 23 18  2  0]\n",
      "\tPrediction: GO Hi this is Jaemin . GO\n",
      "\tTarget: Hi this is Jaemin.\n",
      "\tInput: Nice to meet you!\n",
      "prediction [ 0 28 29  9 22 26  4]\n",
      "\tPrediction: GO Nice to meet you too !\n",
      "\tTarget: Nice to meet you too!\n",
      "\tInput: Which programming language do you use?\n",
      "prediction [ 0  3 25 19  2]\n",
      "\tPrediction: GO I like Python .\n",
      "\tTarget: I like Python.\n",
      "\tInput: See you later.\n",
      "prediction [0 5 5 2 0]\n",
      "\tPrediction: GO Bye Bye . GO\n",
      "\tTarget: Bye Bye.\n",
      "\tInput: Where do you live?\n",
      "prediction [ 0  3 20 27  6 15 12 11  2]\n",
      "\tPrediction: GO I live in Seoul , South Korea .\n",
      "\tTarget: I live in Seoul, South Korea.\n",
      "\tInput: What is your major?\n",
      "prediction [ 0  3 17 24 13  2  0  0  0]\n",
      "\tPrediction: GO I study industrial engineering . GO GO GO\n",
      "\tTarget: I study industrial engineering.\n",
      "\tInput: What do you want to drink?\n",
      "prediction [ 0  7 14  4]\n",
      "\tPrediction: GO Beer please !\n",
      "\tTarget: Beer please!\n",
      "\tInput: What is your favorite beer?\n",
      "prediction [ 0 16  8  4]\n",
      "\tPrediction: GO Leffe brown !\n",
      "\tTarget: Leffe brown!\n",
      "\tepoch loss: {epoch_loss:.2f}\n",
      "\n"
     ]
    },
    {
     "name": "stderr",
     "output_type": "stream",
     "text": [
      "100%|████████████████████████████████████████████████████████████████████████████████| 801/801 [00:18<00:00, 42.18it/s]\n"
     ]
    },
    {
     "name": "stdout",
     "output_type": "stream",
     "text": [
      "Saving model at ./ckpt_dir_seqepoch_801\n"
     ]
    }
   ],
   "source": [
    "tf.reset_default_graph()     \n",
    "with tf.Session() as sess:\n",
    "    config = DemoConfig()\n",
    "    model = seq2seqModel(config, mode='training')\n",
    "    model.build()\n",
    "    data = (input_batches, target_batches)\n",
    "    loss_history = model.train(sess, data, from_scratch=True, save_path=model.ckpt_path+'epoch_'+str(model.n_epoch))"
   ]
  },
  {
   "cell_type": "code",
   "execution_count": 32,
   "metadata": {},
   "outputs": [
    {
     "data": {
      "image/png": "[encoded data removed]",
      "text/plain": [
       "<Figure size 1440x720 with 1 Axes>"
      ]
     },
     "metadata": {},
     "output_type": "display_data"
    }
   ],
   "source": [
    "plt.figure(figsize=(20, 10))\n",
    "plt.scatter(range(model.n_epoch), loss_history)\n",
    "plt.title('Learning Curve')\n",
    "plt.xlabel('Global step')\n",
    "plt.ylabel('Loss')\n",
    "plt.show()"
   ]
  },
  {
   "cell_type": "code",
   "execution_count": 33,
   "metadata": {},
   "outputs": [
    {
     "name": "stdout",
     "output_type": "stream",
     "text": [
      "INFO:tensorflow:Restoring parameters from ./ckpt_dir_seqepoch_801\n",
      "Restore Finished!\n",
      "Input: Hi What is your name?\n",
      "Prediction: GO Hi this is Jaemin . . . . .\n",
      "Target: Hi this is Jaemin. \n",
      "\n",
      "Input: Nice to meet you!\n",
      "Prediction: GO Nice to meet you too ! ! ! !\n",
      "Target: Nice to meet you too! \n",
      "\n",
      "INFO:tensorflow:Restoring parameters from ./ckpt_dir_seqepoch_801\n",
      "Restore Finished!\n",
      "Input: Which programming language do you use?\n",
      "Prediction: GO I like Python Python . . . . .\n",
      "Target: I like Python. \n",
      "\n",
      "Input: See you later.\n",
      "Prediction: GO Bye Bye . . . . . . .\n",
      "Target: Bye Bye. \n",
      "\n",
      "INFO:tensorflow:Restoring parameters from ./ckpt_dir_seqepoch_801\n",
      "Restore Finished!\n",
      "Input: Where do you live?\n",
      "Prediction: GO I live live in Seoul South South Korea .\n",
      "Target: I live in Seoul, South Korea. \n",
      "\n",
      "Input: What is your major?\n",
      "Prediction: GO Leffe brown ! ! ! . . . .\n",
      "Target: I study industrial engineering. \n",
      "\n",
      "INFO:tensorflow:Restoring parameters from ./ckpt_dir_seqepoch_801\n",
      "Restore Finished!\n",
      "Input: What do you want to drink?\n",
      "Prediction: GO Beer please ! ! . . . . .\n",
      "Target: Beer please! \n",
      "\n",
      "Input: What is your favorite beer?\n",
      "Prediction: GO Leffe brown ! ! ! ! ! . .\n",
      "Target: Leffe brown! \n",
      "\n"
     ]
    }
   ],
   "source": [
    "tf.reset_default_graph()\n",
    "with tf.Session() as sess:\n",
    "    model = seq2seqModel(config, mode='inference')\n",
    "    model.build()\n",
    "    for input_batch, target_batch in zip(input_batches, target_batches):\n",
    "        data = (input_batch, target_batch)\n",
    "        model.inference(sess, data, load_ckpt=model.ckpt_path+'epoch_'+str(model.n_epoch))\n"
   ]
  },
  {
   "cell_type": "code",
   "execution_count": 29,
   "metadata": {},
   "outputs": [],
   "source": [
    "import numpy as np"
   ]
  },
  {
   "cell_type": "code",
   "execution_count": 30,
   "metadata": {},
   "outputs": [],
   "source": [
    "test = np.random.randint(1, high=22, size=[22])"
   ]
  },
  {
   "cell_type": "code",
   "execution_count": 31,
   "metadata": {},
   "outputs": [
    {
     "data": {
      "text/plain": [
       "array([ 6, 13, 11,  1, 16,  9, 17,  6,  8,  5, 10, 10, 13,  7,  7, 16, 19,\n",
       "       15,  3, 18,  7, 11])"
      ]
     },
     "execution_count": 31,
     "metadata": {},
     "output_type": "execute_result"
    }
   ],
   "source": [
    "test"
   ]
  },
  {
   "cell_type": "code",
   "execution_count": 32,
   "metadata": {},
   "outputs": [],
   "source": [
    "sess = tf.Session()"
   ]
  },
  {
   "cell_type": "code",
   "execution_count": 33,
   "metadata": {},
   "outputs": [],
   "source": [
    "# x has shape [2, 3, 2]\n",
    "x = tf.constant([[[1., 2.], [3., 4. ], [5. , 6. ]],\n",
    "                 [[7., 8.], [9., 10.], [11., 12.]]])"
   ]
  },
  {
   "cell_type": "code",
   "execution_count": 34,
   "metadata": {},
   "outputs": [
    {
     "data": {
      "text/plain": [
       "TensorShape([Dimension(2), Dimension(3), Dimension(2)])"
      ]
     },
     "execution_count": 34,
     "metadata": {},
     "output_type": "execute_result"
    }
   ],
   "source": [
    "x.shape"
   ]
  },
  {
   "cell_type": "code",
   "execution_count": 35,
   "metadata": {},
   "outputs": [
    {
     "data": {
      "text/plain": [
       "<tf.Tensor 'strided_slice_1:0' shape=(2, 2) dtype=float32>"
      ]
     },
     "execution_count": 35,
     "metadata": {},
     "output_type": "execute_result"
    }
   ],
   "source": [
    "x[:,1,:]"
   ]
  },
  {
   "cell_type": "code",
   "execution_count": 36,
   "metadata": {},
   "outputs": [
    {
     "data": {
      "text/plain": [
       "array([[[ 1.,  2.],\n",
       "        [ 3.,  4.],\n",
       "        [ 5.,  6.]],\n",
       "\n",
       "       [[ 7.,  8.],\n",
       "        [ 9., 10.],\n",
       "        [11., 12.]]], dtype=float32)"
      ]
     },
     "execution_count": 36,
     "metadata": {},
     "output_type": "execute_result"
    }
   ],
   "source": [
    "x.eval(session=sess)"
   ]
  },
  {
   "cell_type": "code",
   "execution_count": 37,
   "metadata": {},
   "outputs": [
    {
     "data": {
      "text/plain": [
       "array([[ 3.,  4.],\n",
       "       [ 9., 10.]], dtype=float32)"
      ]
     },
     "execution_count": 37,
     "metadata": {},
     "output_type": "execute_result"
    }
   ],
   "source": [
    "x[:,1,:].eval(session=sess)"
   ]
  },
  {
   "cell_type": "code",
   "execution_count": 38,
   "metadata": {},
   "outputs": [
    {
     "data": {
      "text/plain": [
       "array([[[1., 2.]],\n",
       "\n",
       "       [[7., 8.]]], dtype=float32)"
      ]
     },
     "execution_count": 38,
     "metadata": {},
     "output_type": "execute_result"
    }
   ],
   "source": [
    "tf.slice(x,[0,0,0],[-1,1,2]).eval(session=sess)"
   ]
  },
  {
   "cell_type": "code",
   "execution_count": null,
   "metadata": {},
   "outputs": [],
   "source": [
    "y = tf.constant(np.reshape(test,(2,-1)))"
   ]
  },
  {
   "cell_type": "code",
   "execution_count": null,
   "metadata": {},
   "outputs": [],
   "source": [
    "y.eval(session=sess)"
   ]
  },
  {
   "cell_type": "code",
   "execution_count": null,
   "metadata": {},
   "outputs": [],
   "source": [
    "tf.slice(y,[0,0],[-1,8]).eval(session=sess)"
   ]
  },
  {
   "cell_type": "code",
   "execution_count": null,
   "metadata": {},
   "outputs": [],
   "source": []
  }
 ],
 "metadata": {
  "kernelspec": {
   "display_name": "Python [conda env:tensorflow]",
   "language": "python",
   "name": "conda-env-tensorflow-py"
  },
  "language_info": {
   "codemirror_mode": {
    "name": "ipython",
    "version": 3
   },
   "file_extension": ".py",
   "mimetype": "text/x-python",
   "name": "python",
   "nbconvert_exporter": "python",
   "pygments_lexer": "ipython3",
   "version": "3.5.5"
  }
 },
 "nbformat": 4,
 "nbformat_minor": 2
}
