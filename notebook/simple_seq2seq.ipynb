{
 "cells": [
  {
   "cell_type": "code",
   "execution_count": 1,
   "metadata": {},
   "outputs": [],
   "source": [
    "import tensorflow as tf\n",
    "import numpy as np\n",
    "import re\n",
    "import unicodedata\n",
    "from sklearn.model_selection import train_test_split\n",
    "import os\n",
    "import time\n",
    "#tf.enable_eager_execution()"
   ]
  },
  {
   "cell_type": "code",
   "execution_count": 2,
   "metadata": {},
   "outputs": [],
   "source": [
    "path_to_zip = tf.keras.utils.get_file('spa-eng.zip', \n",
    "                                      origin='http://download.tensorflow.org/data/spa-eng.zip', \n",
    "    extract=True)\n",
    "path_to_file = os.path.dirname(path_to_zip)+\"/spa-eng/spa.txt\""
   ]
  },
  {
   "cell_type": "code",
   "execution_count": 3,
   "metadata": {},
   "outputs": [],
   "source": [
    "# convert unicode file to ascii\n",
    "def unicode_to_ascii(s):\n",
    "    return ''.join(c for c in unicodedata.normalize('NFD', s)\n",
    "                  if unicodedata.category(c) != 'Mn')"
   ]
  },
  {
   "cell_type": "code",
   "execution_count": 4,
   "metadata": {},
   "outputs": [],
   "source": [
    "def preprocess_sentence(w):\n",
    "    w = unicode_to_ascii(w.lower().strip())\n",
    "    # creating a space between a word and the punctuation following it\n",
    "    # eg: \"he is a boy.\" => \"he is a boy .\" \n",
    "    # Reference:- https://stackoverflow.com/questions/3645931/python-padding-punctuation-with-white-spaces-keeping-punctuation\n",
    "    w = re.sub(r\"([?.!,¿])\", r\" \\1 \", w)\n",
    "    w = re.sub(r'[\" \"]+', \" \", w)\n",
    "    # replacing everything with space except (a-z, A-Z, \".\", \"?\", \"!\", \",\")\n",
    "    w = re.sub(r\"[^a-zA-Z?.!,¿]+\", \" \", w)\n",
    "    w = w.rstrip().strip()\n",
    "    # adding a start and an end token to the sentence\n",
    "    # so that the model know when to start and stop predicting.\n",
    "    w = '<start> ' + w + ' <end>'\n",
    "    return w"
   ]
  },
  {
   "cell_type": "code",
   "execution_count": 5,
   "metadata": {},
   "outputs": [],
   "source": [
    "# 1. Remove the accents\n",
    "# 2. Clean the sentences\n",
    "# 3. Return word pairs in the format: [ENGLISH, SPANISH]\n",
    "def create_dataset(path, num_examples):\n",
    "    lines = open(path, encoding='UTF-8').read().strip().split('\\n')\n",
    "    word_pairs = [[preprocess_sentence(w) for w in l.split('\\t')]  for l in lines[:num_examples]]\n",
    "    return word_pairs"
   ]
  },
  {
   "cell_type": "code",
   "execution_count": 6,
   "metadata": {},
   "outputs": [],
   "source": [
    "# This class creates a word -> index mapping (e.g,. \"dad\" -> 5) and vice-versa \n",
    "# (e.g., 5 -> \"dad\") for each language,\n",
    "class LanguageIndex():\n",
    "    def __init__(self, lang):\n",
    "        self.lang = lang\n",
    "        self.word2idx = {}\n",
    "        self.idx2word = {}\n",
    "        self.vocab = set()\n",
    "        self.create_index()\n",
    "    def create_index(self):\n",
    "        for phrase in self.lang:\n",
    "          self.vocab.update(phrase.split(' '))\n",
    "    \n",
    "        self.vocab = sorted(self.vocab)\n",
    "    \n",
    "        self.word2idx['<pad>'] = 0\n",
    "        for index, word in enumerate(self.vocab):\n",
    "          self.word2idx[word] = index + 1\n",
    "    \n",
    "        for word, index in self.word2idx.items():\n",
    "          self.idx2word[index] = word"
   ]
  },
  {
   "cell_type": "code",
   "execution_count": 7,
   "metadata": {},
   "outputs": [],
   "source": [
    "def max_length(tensor):\n",
    "    return max(len(t) for t in tensor)"
   ]
  },
  {
   "cell_type": "code",
   "execution_count": 8,
   "metadata": {},
   "outputs": [],
   "source": [
    "def load_dataset(path, num_examples):\n",
    "    # creating cleaned input, output pairs\n",
    "    pairs = create_dataset(path, num_examples)\n",
    "    \n",
    "    # index language using the class defined above    \n",
    "    inp_lang = LanguageIndex(sp for en, sp in pairs)\n",
    "    targ_lang = LanguageIndex(en for en, sp in pairs)\n",
    "    \n",
    "    # Vectorize the input and target languages\n",
    "    \n",
    "    # Spanish sentences\n",
    "    input_tensor = [[inp_lang.word2idx[s] for s in sp.split(' ')] for en, sp in pairs]\n",
    "    \n",
    "    # English sentences\n",
    "    target_tensor = [[targ_lang.word2idx[s] for s in en.split(' ')] for en, sp in pairs]\n",
    "    \n",
    "    # Calculate max_length of input and output tensor\n",
    "    # Here, we'll set those to the longest sentence in the dataset\n",
    "    max_length_inp, max_length_tar = max_length(input_tensor), max_length(target_tensor)\n",
    "    \n",
    "    # Padding the input and output tensor to the maximum length\n",
    "    input_tensor = tf.keras.preprocessing.sequence.pad_sequences(input_tensor,\n",
    "                                                                maxlen=max_length_inp,\n",
    "                                                                padding='post')\n",
    "    target_tensor = tf.keras.preprocessing.sequence.pad_sequences(target_tensor,\n",
    "                                                                 maxlen=max_length_tar,\n",
    "                                                                 padding='post')\n",
    "    return input_tensor, target_tensor, inp_lang, targ_lang, max_length_inp, max_length_tar"
   ]
  },
  {
   "cell_type": "code",
   "execution_count": 9,
   "metadata": {},
   "outputs": [],
   "source": [
    "# Try experimenting with the size of that dataset\n",
    "num_examples = 3000\n",
    "input_tensor, target_tensor, inp_lang, targ_lang, max_length_inp, max_length_targ = load_dataset(path_to_file, num_examples)"
   ]
  },
  {
   "cell_type": "code",
   "execution_count": 10,
   "metadata": {},
   "outputs": [
    {
     "data": {
      "text/plain": [
       "(2400, 2400, 600, 600)"
      ]
     },
     "execution_count": 10,
     "metadata": {},
     "output_type": "execute_result"
    }
   ],
   "source": [
    "# Creating training and validation sets using an 80-20 split\n",
    "input_tensor_train, input_tensor_val, target_tensor_train, target_tensor_val = train_test_split(input_tensor, target_tensor, test_size=0.2)\n",
    "\n",
    "# Show length\n",
    "len(input_tensor_train), len(target_tensor_train), len(input_tensor_val), len(target_tensor_val)"
   ]
  },
  {
   "cell_type": "code",
   "execution_count": 11,
   "metadata": {},
   "outputs": [],
   "source": [
    "# Create a tf.data dataset\n",
    "BUFFER_SIZE = len(input_tensor_train)\n",
    "BATCH_SIZE = 64\n",
    "N_BATCH = BUFFER_SIZE//BATCH_SIZE\n",
    "embedding_dim = 256\n",
    "units = 1024\n",
    "vocab_inp_size = len(inp_lang.word2idx)\n",
    "vocab_tar_size = len(targ_lang.word2idx)\n",
    "\n",
    "dataset = tf.data.Dataset.from_tensor_slices((input_tensor_train, target_tensor_train)).shuffle(BUFFER_SIZE)\n",
    "dataset = dataset.shuffle(10)\n",
    "dataset = dataset.map(lambda x,y:(x,y, tf.size(x), tf.size(y)))\n",
    "dataset = dataset.batch(BATCH_SIZE)"
   ]
  },
  {
   "cell_type": "code",
   "execution_count": 12,
   "metadata": {},
   "outputs": [],
   "source": [
    "embeddings_encoder = tf.get_variable('embedding_enc',shape=(vocab_inp_size,embedding_dim), \n",
    "                             initializer=tf.random_uniform_initializer)\n",
    "embeddings_decoder = tf.get_variable('embedding_dec',shape=(vocab_tar_size,embedding_dim), \n",
    "                             initializer=tf.random_uniform_initializer)"
   ]
  },
  {
   "cell_type": "code",
   "execution_count": 13,
   "metadata": {},
   "outputs": [],
   "source": [
    "def encode(encode_input_emb):\n",
    "    with tf.variable_scope('encode',reuse=tf.AUTO_REUSE):\n",
    "        encoder_cell= tf.nn.rnn_cell.BasicLSTMCell(units)\n",
    "        encoder_cell = tf.nn.rnn_cell.DropoutWrapper(encoder_cell,input_keep_prob=1, output_keep_prob=0.5)\n",
    "        enc_out, enc_state = tf.nn.dynamic_rnn(encoder_cell,encode_input_emb,dtype=tf.float32)\n",
    "    return enc_state"
   ]
  },
  {
   "cell_type": "code",
   "execution_count": 14,
   "metadata": {},
   "outputs": [],
   "source": [
    "def decode(decode_input_emb, initiale_state):\n",
    "    with tf.variable_scope('decode',reuse=tf.AUTO_REUSE):\n",
    "        \n",
    "        decoder_cell= tf.nn.rnn_cell.BasicLSTMCell(units)\n",
    "        decoder_cell= tf.nn.rnn_cell.DropoutWrapper(decoder_cell,input_keep_prob=1,output_keep_prob=0.5)\n",
    "        dec_out, dec_state = tf.nn.dynamic_rnn(decoder_cell,decode_input_emb,\n",
    "                                               initial_state=initiale_state,dtype=tf.float32)\n",
    "        dec_output = tf.layers.dense(dec_out,vocab_tar_size)\n",
    "    return dec_output"
   ]
  },
  {
   "cell_type": "code",
   "execution_count": 15,
   "metadata": {},
   "outputs": [],
   "source": [
    "def seq2seq(encode_input_emb,decode_input_emb,enc_size):\n",
    "    enc_state = encode(tf.nn.embedding_lookup(embeddings_encoder,enc_inp))\n",
    "    dec_output = decode(tf.nn.embedding_lookup(embeddings_decoder,decode_input_emb),enc_state)\n",
    "    print('final',tf.shape(dec_output))\n",
    "    return dec_output\n",
    "    "
   ]
  },
  {
   "cell_type": "code",
   "execution_count": 16,
   "metadata": {},
   "outputs": [],
   "source": [
    "def loss_function(dec_inp,logit):\n",
    "    with tf.variable_scope('loss',reuse=tf.AUTO_REUSE):\n",
    "        mask = 1 - np.equal(enc_inp, 0)\n",
    "        #print('shape',tf.shape(pred))\n",
    "        #print('target', enc_inp.shape)\n",
    "        #logit = seq2seq(enc_inp,dec_inp,enc_size)\n",
    "        loss_ = tf.nn.sparse_softmax_cross_entropy_with_logits(labels=dec_inp, logits=logit)\n",
    "        loss1_= loss_*mask\n",
    "    return tf.reduce_mean(loss1_)\n",
    "    "
   ]
  },
  {
   "cell_type": "code",
   "execution_count": 17,
   "metadata": {},
   "outputs": [],
   "source": [
    "iterator = dataset.make_initializable_iterator()\n",
    "enc_inp, dec_inp ,enc_size, dec_size = iterator.get_next()\n",
    "\n",
    "with tf.variable_scope('adam1', reuse=tf.AUTO_REUSE):\n",
    "    optimizer = tf.train.AdamOptimizer(learning_rate=0.0001)\n",
    "    #loss1 = loss_function(dec_inp, logit)\n",
    "    #loss_op = optimizer.minimize(loss1)"
   ]
  },
  {
   "cell_type": "code",
   "execution_count": 18,
   "metadata": {},
   "outputs": [],
   "source": [
    "import matplotlib.pyplot as plt\n",
    "% matplotlib inline"
   ]
  },
  {
   "cell_type": "code",
   "execution_count": 19,
   "metadata": {},
   "outputs": [
    {
     "name": "stdout",
     "output_type": "stream",
     "text": [
      "final Tensor(\"Shape:0\", shape=(3,), dtype=int32)\n",
      "loss after 0 epoch is 2.406315326690674\n",
      "accuracy after 0 epoch is 0.5703125\n",
      "loss after 1 epoch is 2.109083652496338\n",
      "accuracy after 1 epoch is 0.64453125\n",
      "loss after 2 epoch is 1.890817403793335\n",
      "accuracy after 2 epoch is 0.6953125\n",
      "loss after 3 epoch is 1.951646327972412\n",
      "accuracy after 3 epoch is 0.62890625\n",
      "loss after 4 epoch is 1.6667754650115967\n",
      "accuracy after 4 epoch is 0.75390625\n",
      "loss after 5 epoch is 1.6484253406524658\n",
      "accuracy after 5 epoch is 0.72265625\n",
      "loss after 6 epoch is 1.5828717947006226\n",
      "accuracy after 6 epoch is 0.72265625\n",
      "loss after 7 epoch is 1.484752893447876\n",
      "accuracy after 7 epoch is 0.75390625\n",
      "loss after 8 epoch is 1.3398027420043945\n",
      "accuracy after 8 epoch is 0.7578125\n",
      "loss after 9 epoch is 1.4076335430145264\n",
      "accuracy after 9 epoch is 0.7890625\n",
      "loss after 10 epoch is 1.3415203094482422\n",
      "accuracy after 10 epoch is 0.76953125\n",
      "loss after 11 epoch is 1.208390235900879\n",
      "accuracy after 11 epoch is 0.82421875\n",
      "loss after 12 epoch is 1.088378667831421\n",
      "accuracy after 12 epoch is 0.8203125\n",
      "loss after 13 epoch is 1.128440499305725\n",
      "accuracy after 13 epoch is 0.81640625\n",
      "loss after 14 epoch is 1.0243895053863525\n",
      "accuracy after 14 epoch is 0.83984375\n",
      "loss after 15 epoch is 1.1292022466659546\n",
      "accuracy after 15 epoch is 0.8359375\n",
      "loss after 16 epoch is 1.0109939575195312\n",
      "accuracy after 16 epoch is 0.84765625\n",
      "loss after 17 epoch is 1.0023120641708374\n",
      "accuracy after 17 epoch is 0.8359375\n",
      "loss after 18 epoch is 0.9613937139511108\n",
      "accuracy after 18 epoch is 0.8515625\n",
      "loss after 19 epoch is 0.819680392742157\n",
      "accuracy after 19 epoch is 0.85546875\n"
     ]
    },
    {
     "data": {
      "text/plain": [
       "[<matplotlib.lines.Line2D at 0x241ab3b3978>]"
      ]
     },
     "execution_count": 19,
     "metadata": {},
     "output_type": "execute_result"
    },
    {
     "data": {
      "image/png": "[encoded data removed]",
      "text/plain": [
       "<Figure size 432x288 with 1 Axes>"
      ]
     },
     "metadata": {},
     "output_type": "display_data"
    }
   ],
   "source": [
    "logit = seq2seq(enc_inp,dec_inp,enc_size)\n",
    "accuracy = tf.reduce_mean(tf.cast(tf.equal(tf.argmax(logit,axis=-1), tf.cast(dec_inp,tf.int64)),tf.float32))\n",
    "#test_val = tf.argmax(logit,axis=1)\n",
    "#test_valN1 = tf.argmax(logit,axis=-1)\n",
    "loss1 = loss_function(dec_inp, logit)\n",
    "gradients = optimizer.compute_gradients(loss1)\n",
    "capped_gradients = [(tf.clip_by_value(grad, -1., 1.), var) for grad, var in gradients if grad is not None]\n",
    "train_op = optimizer.apply_gradients(capped_gradients)\n",
    "#loss_op = optimizer.minimize(loss1)\n",
    "losses = []\n",
    "#last_val = None\n",
    "#last_val_axisN1 = None\n",
    "#last_logit = None\n",
    "with tf.Session() as sess:\n",
    "    sess.run([tf.global_variables_initializer()])\n",
    "    for epoc in range(20):\n",
    "        #train_op = seq2seq(enc_inp,dec_inp,enc_size )\n",
    "        #print(enc_inp.shape)\n",
    "        #dec_output = sess.run([train_op])\n",
    "        #print(tf.sqnp.array(dec_output))\n",
    "        #print('Shape ',tf.convert_to_tensor(np.array(dec_output)))\n",
    "        #dec_output = np.array(dec_output)\n",
    "        #print(tf.squeeze(dec_output))\n",
    "        #print(tf.shape(tf.nn.embedding_lookup(embeddings_decoder,dec_inp)).eval())\n",
    "        sess.run(iterator.initializer)\n",
    "        total_loss=0\n",
    "        try:\n",
    "            while True:\n",
    "                #print(dec_inp.eval())\n",
    "                _,loss_val,acc = sess.run([train_op,loss1,accuracy])\n",
    "                #print(testval.shape)\n",
    "                total_loss +=loss_val\n",
    "            \n",
    "        except tf.errors.OutOfRangeError:\n",
    "            pass\n",
    "        print('loss after {0} epoch is {1}'.format(epoc,loss_val))\n",
    "        print('accuracy after {0} epoch is {1}'.format(epoc,acc))\n",
    "        #print(testval)\n",
    "        #last_val = testval\n",
    "        #last_val_axisN1 = testvalN\n",
    "        #last_logit = logitlast\n",
    "        losses.append(total_loss)\n",
    "plt.plot(losses)"
   ]
  },
  {
   "cell_type": "code",
   "execution_count": null,
   "metadata": {},
   "outputs": [],
   "source": [
    "last_val[0]"
   ]
  },
  {
   "cell_type": "code",
   "execution_count": null,
   "metadata": {},
   "outputs": [],
   "source": [
    "last_val_axisN1[0]"
   ]
  },
  {
   "cell_type": "code",
   "execution_count": null,
   "metadata": {},
   "outputs": [],
   "source": [
    "np.argmax(last_logit[0,2,:])"
   ]
  },
  {
   "cell_type": "code",
   "execution_count": null,
   "metadata": {},
   "outputs": [],
   "source": [
    "np.argmax(last_logit,axis=2)"
   ]
  },
  {
   "cell_type": "code",
   "execution_count": null,
   "metadata": {},
   "outputs": [],
   "source": [
    "vocab_tar_size"
   ]
  },
  {
   "cell_type": "code",
   "execution_count": null,
   "metadata": {},
   "outputs": [],
   "source": [
    "for (batch,(enc_inp, dec_inp ,enc_size, dec_size)) in enumerate(dataset):\n",
    "    #train_op = seq2seq(enc_inp,dec_inp,enc_size )\n",
    "   \n",
    "    #print('predictions',train_op.shape)\n",
    "    #print('real',dec_inp.shape)\n",
    "    #mask = 1-np.equal(train_op, 0)\n",
    "    #loss_ = tf.nn.sparse_softmax_cross_entropy_with_logits(labels=dec_inp,logits=np.array(train_op))*mask\n",
    "    with tf.GradientTape() as tape:\n",
    "        \n",
    "    variables = tf.trainable_variables()\n",
    "    \n",
    "    loss_= loss_function(dec_inp, dec_inp,enc_size)\n",
    "    var_grad = optimizer.compute_gradients(loss_,variables)\n",
    "    optimizer.apply_gradients(var_grad)\n",
    "    print(loss_)"
   ]
  },
  {
   "cell_type": "code",
   "execution_count": null,
   "metadata": {},
   "outputs": [],
   "source": [
    "v[:,:-1]"
   ]
  },
  {
   "cell_type": "code",
   "execution_count": null,
   "metadata": {},
   "outputs": [],
   "source": [
    "v[:,1:]"
   ]
  },
  {
   "cell_type": "code",
   "execution_count": null,
   "metadata": {},
   "outputs": [],
   "source": [
    "import tensorflow as tf\n",
    "T=tf.constant([[[10,11,12],[13,14,15]],\n",
    "[[16,17,18],[19,20,21]],\n",
    "[[22,23,24],[25,26,27]]])\n",
    "sess=tf.InteractiveSession()\n"
   ]
  },
  {
   "cell_type": "code",
   "execution_count": null,
   "metadata": {},
   "outputs": [],
   "source": [
    "S=tf.slice(T,[0,1,1],[1,1,2])\n",
    "print(S.eval())"
   ]
  },
  {
   "cell_type": "code",
   "execution_count": null,
   "metadata": {},
   "outputs": [],
   "source": [
    "T.eval()"
   ]
  },
  {
   "cell_type": "code",
   "execution_count": null,
   "metadata": {},
   "outputs": [],
   "source": [
    "a = np.array([[[10,11,12],[13,14,15]],\n",
    "[[16,17,18],[19,20,21]],\n",
    "[[22,23,24],[25,26,27]],\n",
    "             [[0,0,0],[0,0,0]]])"
   ]
  },
  {
   "cell_type": "code",
   "execution_count": null,
   "metadata": {},
   "outputs": [],
   "source": [
    "a.shape"
   ]
  },
  {
   "cell_type": "code",
   "execution_count": null,
   "metadata": {},
   "outputs": [],
   "source": [
    "1-np.equal(a,0)"
   ]
  },
  {
   "cell_type": "code",
   "execution_count": null,
   "metadata": {},
   "outputs": [],
   "source": [
    "a*(1-np.equal(a,0))"
   ]
  },
  {
   "cell_type": "code",
   "execution_count": null,
   "metadata": {},
   "outputs": [],
   "source": []
  }
 ],
 "metadata": {
  "kernelspec": {
   "display_name": "Python [conda env:tensorflow]",
   "language": "python",
   "name": "conda-env-tensorflow-py"
  },
  "language_info": {
   "codemirror_mode": {
    "name": "ipython",
    "version": 3
   },
   "file_extension": ".py",
   "mimetype": "text/x-python",
   "name": "python",
   "nbconvert_exporter": "python",
   "pygments_lexer": "ipython3",
   "version": "3.5.5"
  }
 },
 "nbformat": 4,
 "nbformat_minor": 2
}
